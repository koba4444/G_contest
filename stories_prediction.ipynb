{
 "cells": [
  {
   "cell_type": "code",
   "execution_count": 1,
   "metadata": {
    "collapsed": false,
    "deletable": true,
    "editable": true
   },
   "outputs": [],
   "source": [
    "import pandas as pd\n",
    "import json\n",
    "import numpy as np\n",
    "from sklearn.model_selection import StratifiedKFold, KFold, RepeatedKFold\n",
    "import math\n",
    "from six.moves import xrange\n",
    "from catboost import Pool, CatBoostRegressor"
   ]
  },
  {
   "cell_type": "code",
   "execution_count": 3,
   "metadata": {
    "collapsed": true,
    "deletable": true,
    "editable": true
   },
   "outputs": [],
   "source": [
    "def digitalize(event):\n",
    "    if event=='view':\n",
    "        dig=0.1\n",
    "    elif event=='dislike':\n",
    "        dig=-10\n",
    "    elif event=='skip':\n",
    "        dig=-0.1\n",
    "    elif event=='like':\n",
    "        dig=0.5\n",
    "    return dig"
   ]
  },
  {
   "cell_type": "code",
   "execution_count": 4,
   "metadata": {
    "collapsed": true,
    "deletable": true,
    "editable": true
   },
   "outputs": [],
   "source": [
    "class CustomlossObjective(object):\n",
    "    def calc_ders_range(self, approxes, targets, weights):\n",
    "        # approxes, targets, weights are indexed containers of floats\n",
    "        # (containers with only __len__ and __getitem__ defined).\n",
    "        # weights parameter can be None.\n",
    "        # Returns list of pairs (der1, der2)\n",
    "        result = []\n",
    "        for index in xrange(len(targets)):\n",
    "            der1 = approxes[index]*targets[index]\n",
    "            if weights is not None:\n",
    "#            if weights[index] is not None:\n",
    "                der1 *= weights[index]\n",
    "\n",
    "            result.append(der1)\n",
    "\n",
    "        return np.sum(result)"
   ]
  },
  {
   "cell_type": "code",
   "execution_count": 5,
   "metadata": {
    "collapsed": true,
    "deletable": true,
    "editable": true
   },
   "outputs": [],
   "source": [
    "def my_gain(preds, train_data):\n",
    "    s=0\n",
    "    for i in range(len(preds)):\n",
    "        s=s+preds[i]*train_data[i]\n",
    "    return s"
   ]
  },
  {
   "cell_type": "code",
   "execution_count": 6,
   "metadata": {
    "collapsed": false,
    "deletable": true,
    "editable": true
   },
   "outputs": [],
   "source": [
    "df_stories_react_train=pd.read_csv('stories_reaction_train.csv')\n",
    "df_customer_train=pd.read_csv('customer_train.csv')\n",
    "df_stories_description=pd.read_csv('stories_description.csv')\n",
    "#print(df_stories_react_train.head(5))\n",
    "#print(df_customer_train.head(5))\n",
    "#print(df_stories_description.head(5))"
   ]
  },
  {
   "cell_type": "code",
   "execution_count": 7,
   "metadata": {
    "collapsed": true,
    "deletable": true,
    "editable": true
   },
   "outputs": [],
   "source": [
    "df_stories_react_train['event_value']=[digitalize(x) for x in df_stories_react_train['event']]"
   ]
  },
  {
   "cell_type": "code",
   "execution_count": 8,
   "metadata": {
    "collapsed": true,
    "deletable": true,
    "editable": true
   },
   "outputs": [],
   "source": [
    "df1=pd.merge(df_stories_react_train, df_customer_train, how='left', on='customer_id')"
   ]
  },
  {
   "cell_type": "code",
   "execution_count": 9,
   "metadata": {
    "collapsed": true,
    "deletable": true,
    "editable": true
   },
   "outputs": [],
   "source": [
    "n_fold = 5\n",
    "folds = KFold(n_splits=n_fold, shuffle=True, random_state=11)"
   ]
  },
  {
   "cell_type": "code",
   "execution_count": 12,
   "metadata": {
    "collapsed": false,
    "deletable": true,
    "editable": true
   },
   "outputs": [
    {
     "name": "stdout",
     "output_type": "stream",
     "text": [
      "473141     customer_id  story_id product_0 product_1 product_2 product_3 product_4  \\\n",
      "0            15       138       NaN       CLS       UTL       UTL       NaN   \n",
      "1            15       202       NaN       CLS       UTL       UTL       NaN   \n",
      "2            15       222       NaN       CLS       UTL       UTL       NaN   \n",
      "3            15       379       NaN       CLS       UTL       UTL       NaN   \n",
      "4            15       544       NaN       CLS       UTL       UTL       NaN   \n",
      "5            15       610       NaN       CLS       UTL       UTL       NaN   \n",
      "6            15       645       NaN       CLS       UTL       UTL       NaN   \n",
      "7            15       687       NaN       CLS       UTL       UTL       NaN   \n",
      "8            15       770       NaN       CLS       UTL       UTL       NaN   \n",
      "9            15       781       NaN       CLS       UTL       UTL       NaN   \n",
      "10           15       784       NaN       CLS       UTL       UTL       NaN   \n",
      "11           15       807       NaN       CLS       UTL       UTL       NaN   \n",
      "12           15       811       NaN       CLS       UTL       UTL       NaN   \n",
      "13           15       815       NaN       CLS       UTL       UTL       NaN   \n",
      "14           15       844       NaN       CLS       UTL       UTL       NaN   \n",
      "15           15       888       NaN       CLS       UTL       UTL       NaN   \n",
      "16           15       888       NaN       CLS       UTL       UTL       NaN   \n",
      "17           15       896       NaN       CLS       UTL       UTL       NaN   \n",
      "18           15       900       NaN       CLS       UTL       UTL       NaN   \n",
      "19           15       916       NaN       CLS       UTL       UTL       NaN   \n",
      "20           15       944       NaN       CLS       UTL       UTL       NaN   \n",
      "21           15       954       NaN       CLS       UTL       UTL       NaN   \n",
      "22           15       959       NaN       CLS       UTL       UTL       NaN   \n",
      "23           15       959       NaN       CLS       UTL       UTL       NaN   \n",
      "24           15       973       NaN       CLS       UTL       UTL       NaN   \n",
      "25           15       985       NaN       CLS       UTL       UTL       NaN   \n",
      "26           15       985       NaN       CLS       UTL       UTL       NaN   \n",
      "27           15      1011       NaN       CLS       UTL       UTL       NaN   \n",
      "28           15      1012       NaN       CLS       UTL       UTL       NaN   \n",
      "29           15      1020       NaN       CLS       UTL       UTL       NaN   \n",
      "30           15      1057       NaN       CLS       UTL       UTL       NaN   \n",
      "31           15      1072       NaN       CLS       UTL       UTL       NaN   \n",
      "32           15      1072       NaN       CLS       UTL       UTL       NaN   \n",
      "33           15      1119       NaN       CLS       UTL       UTL       NaN   \n",
      "34           15      1120       NaN       CLS       UTL       UTL       NaN   \n",
      "35           15      1141       NaN       CLS       UTL       UTL       NaN   \n",
      "36           15      1276       NaN       CLS       UTL       UTL       NaN   \n",
      "37           15      1298       NaN       CLS       UTL       UTL       NaN   \n",
      "38           15      1310       NaN       CLS       UTL       UTL       NaN   \n",
      "39           15      1312       NaN       CLS       UTL       UTL       NaN   \n",
      "40           15      1324       NaN       CLS       UTL       UTL       NaN   \n",
      "41           15      1339       NaN       CLS       UTL       UTL       NaN   \n",
      "42           15      1343       NaN       CLS       UTL       UTL       NaN   \n",
      "43           15      1346       NaN       CLS       UTL       UTL       NaN   \n",
      "44           15      1356       NaN       CLS       UTL       UTL       NaN   \n",
      "45           15      1356       NaN       CLS       UTL       UTL       NaN   \n",
      "46           15      1359       NaN       CLS       UTL       UTL       NaN   \n",
      "47           15      1362       NaN       CLS       UTL       UTL       NaN   \n",
      "48           15      1376       NaN       CLS       UTL       UTL       NaN   \n",
      "49           73       126       CLS       CLS       UTL       CLS       NaN   \n",
      "\n",
      "   product_5 product_6 gender_cd  age marital_status_cd  children_cnt  \\\n",
      "0        UTL       UTL         M   40               MAR             1   \n",
      "1        UTL       UTL         M   40               MAR             1   \n",
      "2        UTL       UTL         M   40               MAR             1   \n",
      "3        UTL       UTL         M   40               MAR             1   \n",
      "4        UTL       UTL         M   40               MAR             1   \n",
      "5        UTL       UTL         M   40               MAR             1   \n",
      "6        UTL       UTL         M   40               MAR             1   \n",
      "7        UTL       UTL         M   40               MAR             1   \n",
      "8        UTL       UTL         M   40               MAR             1   \n",
      "9        UTL       UTL         M   40               MAR             1   \n",
      "10       UTL       UTL         M   40               MAR             1   \n",
      "11       UTL       UTL         M   40               MAR             1   \n",
      "12       UTL       UTL         M   40               MAR             1   \n",
      "13       UTL       UTL         M   40               MAR             1   \n",
      "14       UTL       UTL         M   40               MAR             1   \n",
      "15       UTL       UTL         M   40               MAR             1   \n",
      "16       UTL       UTL         M   40               MAR             1   \n",
      "17       UTL       UTL         M   40               MAR             1   \n",
      "18       UTL       UTL         M   40               MAR             1   \n",
      "19       UTL       UTL         M   40               MAR             1   \n",
      "20       UTL       UTL         M   40               MAR             1   \n",
      "21       UTL       UTL         M   40               MAR             1   \n",
      "22       UTL       UTL         M   40               MAR             1   \n",
      "23       UTL       UTL         M   40               MAR             1   \n",
      "24       UTL       UTL         M   40               MAR             1   \n",
      "25       UTL       UTL         M   40               MAR             1   \n",
      "26       UTL       UTL         M   40               MAR             1   \n",
      "27       UTL       UTL         M   40               MAR             1   \n",
      "28       UTL       UTL         M   40               MAR             1   \n",
      "29       UTL       UTL         M   40               MAR             1   \n",
      "30       UTL       UTL         M   40               MAR             1   \n",
      "31       UTL       UTL         M   40               MAR             1   \n",
      "32       UTL       UTL         M   40               MAR             1   \n",
      "33       UTL       UTL         M   40               MAR             1   \n",
      "34       UTL       UTL         M   40               MAR             1   \n",
      "35       UTL       UTL         M   40               MAR             1   \n",
      "36       UTL       UTL         M   40               MAR             1   \n",
      "37       UTL       UTL         M   40               MAR             1   \n",
      "38       UTL       UTL         M   40               MAR             1   \n",
      "39       UTL       UTL         M   40               MAR             1   \n",
      "40       UTL       UTL         M   40               MAR             1   \n",
      "41       UTL       UTL         M   40               MAR             1   \n",
      "42       UTL       UTL         M   40               MAR             1   \n",
      "43       UTL       UTL         M   40               MAR             1   \n",
      "44       UTL       UTL         M   40               MAR             1   \n",
      "45       UTL       UTL         M   40               MAR             1   \n",
      "46       UTL       UTL         M   40               MAR             1   \n",
      "47       UTL       UTL         M   40               MAR             1   \n",
      "48       UTL       UTL         M   40               MAR             1   \n",
      "49       UTL       UTL         M   45               MAR             1   \n",
      "\n",
      "    job_position_cd  \n",
      "0                17  \n",
      "1                17  \n",
      "2                17  \n",
      "3                17  \n",
      "4                17  \n",
      "5                17  \n",
      "6                17  \n",
      "7                17  \n",
      "8                17  \n",
      "9                17  \n",
      "10               17  \n",
      "11               17  \n",
      "12               17  \n",
      "13               17  \n",
      "14               17  \n",
      "15               17  \n",
      "16               17  \n",
      "17               17  \n",
      "18               17  \n",
      "19               17  \n",
      "20               17  \n",
      "21               17  \n",
      "22               17  \n",
      "23               17  \n",
      "24               17  \n",
      "25               17  \n",
      "26               17  \n",
      "27               17  \n",
      "28               17  \n",
      "29               17  \n",
      "30               17  \n",
      "31               17  \n",
      "32               17  \n",
      "33               17  \n",
      "34               17  \n",
      "35               17  \n",
      "36               17  \n",
      "37               17  \n",
      "38               17  \n",
      "39               17  \n",
      "40               17  \n",
      "41               17  \n",
      "42               17  \n",
      "43               17  \n",
      "44               17  \n",
      "45               17  \n",
      "46               17  \n",
      "47               17  \n",
      "48               17  \n",
      "49                4  \n",
      "473141 0     0.1\n",
      "1    -0.1\n",
      "2    -0.1\n",
      "3    -0.1\n",
      "4     0.1\n",
      "5     0.1\n",
      "6     0.1\n",
      "7     0.1\n",
      "8    -0.1\n",
      "9     0.1\n",
      "10    0.1\n",
      "11   -0.1\n",
      "12    0.1\n",
      "13    0.1\n",
      "14    0.1\n",
      "15    0.1\n",
      "16   -0.1\n",
      "17    0.1\n",
      "18    0.1\n",
      "19   -0.1\n",
      "20    0.1\n",
      "21    0.1\n",
      "22    0.1\n",
      "23   -0.1\n",
      "24    0.1\n",
      "25    0.1\n",
      "26   -0.1\n",
      "27    0.1\n",
      "28   -0.1\n",
      "29   -0.1\n",
      "30    0.1\n",
      "31    0.1\n",
      "32    0.1\n",
      "33    0.1\n",
      "34    0.1\n",
      "35    0.1\n",
      "36    0.1\n",
      "37    0.1\n",
      "38   -0.1\n",
      "39    0.1\n",
      "40    0.1\n",
      "41    0.1\n",
      "42    0.1\n",
      "43   -0.1\n",
      "44   -0.1\n",
      "45    0.1\n",
      "46    0.1\n",
      "47    0.1\n",
      "48    0.1\n",
      "49   -0.1\n",
      "Name: event_value, dtype: float64\n"
     ]
    }
   ],
   "source": [
    "X_train=df1.drop(['event', 'event_value','event_dttm','first_session_dttm','job_title'],axis=1)\n",
    "Y_train=df1['event_value']\n",
    "print(len(X_train),X_train.head(50))\n",
    "print(len(Y_train),Y_train.head(50))"
   ]
  },
  {
   "cell_type": "code",
   "execution_count": 13,
   "metadata": {
    "collapsed": true,
    "deletable": true,
    "editable": true
   },
   "outputs": [],
   "source": [
    "X_train['product_0'].fillna('NA', inplace=True)\n",
    "X_train['product_1'].fillna('NA', inplace=True)\n",
    "X_train['product_2'].fillna('NA', inplace=True)\n",
    "X_train['product_3'].fillna('NA', inplace=True)\n",
    "X_train['product_4'].fillna('NA', inplace=True)\n",
    "X_train['product_5'].fillna('NA', inplace=True)\n",
    "X_train['product_6'].fillna('NA', inplace=True)\n",
    "X_train['gender_cd'].fillna('NA', inplace=True)\n",
    "X_train['marital_status_cd'].fillna('NA', inplace=True)"
   ]
  },
  {
   "cell_type": "code",
   "execution_count": 14,
   "metadata": {
    "collapsed": true,
    "deletable": true,
    "editable": true
   },
   "outputs": [],
   "source": [
    "print\n",
    "model = CatBoostRegressor(loss_function=CustomlossObjective(), eval_metric='MAE')"
   ]
  },
  {
   "cell_type": "code",
   "execution_count": null,
   "metadata": {
    "collapsed": false,
    "deletable": true,
    "editable": true
   },
   "outputs": [
    {
     "name": "stderr",
     "output_type": "stream",
     "text": [
      "ERROR:root:Internal Python error in the inspect module.\n",
      "Below is the traceback from this internal error.\n",
      "\n"
     ]
    }
   ],
   "source": [
    "model.fit(X_train, Y_train, cat_features=[2,3,4,5,6,7,8,9,11])"
   ]
  },
  {
   "cell_type": "code",
   "execution_count": null,
   "metadata": {
    "collapsed": true,
    "deletable": true,
    "editable": true
   },
   "outputs": [],
   "source": []
  }
 ],
 "metadata": {
  "kernelspec": {
   "display_name": "Python 3",
   "language": "python",
   "name": "python3"
  },
  "language_info": {
   "codemirror_mode": {
    "name": "ipython",
    "version": 3
   },
   "file_extension": ".py",
   "mimetype": "text/x-python",
   "name": "python",
   "nbconvert_exporter": "python",
   "pygments_lexer": "ipython3",
   "version": "3.5.2"
  }
 },
 "nbformat": 4,
 "nbformat_minor": 2
}
